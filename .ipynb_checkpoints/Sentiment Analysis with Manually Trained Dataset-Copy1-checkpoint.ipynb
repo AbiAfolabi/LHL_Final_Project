{
 "cells": [
  {
   "cell_type": "markdown",
   "id": "a1c9eedc",
   "metadata": {},
   "source": [
    "## 1. Import Necessary Libraries"
   ]
  },
  {
   "cell_type": "code",
   "execution_count": 1,
   "id": "992daefc",
   "metadata": {},
   "outputs": [],
   "source": [
    "import pandas as pd\n",
    "import nltk\n",
    "import numpy as np\n",
    "import string\n",
    "from nltk.corpus import stopwords\n",
    "from sklearn.feature_extraction.text import TfidfVectorizer\n",
    "from sklearn.model_selection import train_test_split\n",
    "from sklearn.model_selection import LeaveOneOut\n",
    "from sklearn import naive_bayes\n",
    "\n",
    "## for model evaluation metrics\n",
    "from sklearn.metrics import roc_auc_score\n",
    "from sklearn.metrics import f1_score\n",
    "from sklearn.metrics import accuracy_score\n",
    "\n"
   ]
  },
  {
   "cell_type": "code",
   "execution_count": 2,
   "id": "a466755a",
   "metadata": {},
   "outputs": [],
   "source": [
    "## set display option to show all rows and columns in the dataframe\n",
    "\n",
    "pd.set_option('display.max_columns', None)\n",
    "pd.set_option('display.max_rows', None)\n",
    "pd.set_option('display.max_colwidth', None)"
   ]
  },
  {
   "cell_type": "markdown",
   "id": "b875dac5",
   "metadata": {},
   "source": [
    "## Data Import\n",
    "### Importing manually labelled data"
   ]
  },
  {
   "cell_type": "code",
   "execution_count": 3,
   "id": "eada3347",
   "metadata": {},
   "outputs": [
    {
     "data": {
      "text/html": [
       "<div>\n",
       "<style scoped>\n",
       "    .dataframe tbody tr th:only-of-type {\n",
       "        vertical-align: middle;\n",
       "    }\n",
       "\n",
       "    .dataframe tbody tr th {\n",
       "        vertical-align: top;\n",
       "    }\n",
       "\n",
       "    .dataframe thead th {\n",
       "        text-align: right;\n",
       "    }\n",
       "</style>\n",
       "<table border=\"1\" class=\"dataframe\">\n",
       "  <thead>\n",
       "    <tr style=\"text-align: right;\">\n",
       "      <th></th>\n",
       "      <th>city</th>\n",
       "      <th>name</th>\n",
       "      <th>reviews</th>\n",
       "      <th>rating</th>\n",
       "      <th>review_id</th>\n",
       "      <th>review_text</th>\n",
       "      <th>review_rating</th>\n",
       "      <th>review_datetime_utc</th>\n",
       "      <th>Labels</th>\n",
       "    </tr>\n",
       "  </thead>\n",
       "  <tbody>\n",
       "    <tr>\n",
       "      <th>0</th>\n",
       "      <td>Calgary</td>\n",
       "      <td>African Variety Store</td>\n",
       "      <td>21.0</td>\n",
       "      <td>4.0</td>\n",
       "      <td>ChZDSUhNMG9nS0VJQ0FnSUN1ck1tNGR3EAE</td>\n",
       "      <td>You will find Ethiopian traditional items and raw materials (teff and wheat) for Injera and bread</td>\n",
       "      <td>5</td>\n",
       "      <td>7/22/2022 20:52</td>\n",
       "      <td>1</td>\n",
       "    </tr>\n",
       "    <tr>\n",
       "      <th>1</th>\n",
       "      <td>Calgary</td>\n",
       "      <td>African Variety Store</td>\n",
       "      <td>21.0</td>\n",
       "      <td>4.0</td>\n",
       "      <td>ChZDSUhNMG9nS0VJQ0FnSURTeC1ETGJ3EAE</td>\n",
       "      <td>According to AHS found dead mouse in store with mouse dropping, meat thawing at room temperature. Foodborne pathogens multiply quickly at room temperature. With food born pathogens they do not neccesarily have a smell or taste off to be bad. Please learn from this.</td>\n",
       "      <td>1</td>\n",
       "      <td>1/11/2021 15:00</td>\n",
       "      <td>0</td>\n",
       "    </tr>\n",
       "    <tr>\n",
       "      <th>2</th>\n",
       "      <td>Calgary</td>\n",
       "      <td>African Variety Store</td>\n",
       "      <td>21.0</td>\n",
       "      <td>4.0</td>\n",
       "      <td>ChdDSUhNMG9nS0VJQ0FnSUNrenF6SzB3RRAB</td>\n",
       "      <td>Good selection of ethiopian  species , grain, cultural items. You can also find   meat , farm chicken and whole lamb</td>\n",
       "      <td>5</td>\n",
       "      <td>6/22/2019 6:24</td>\n",
       "      <td>1</td>\n",
       "    </tr>\n",
       "    <tr>\n",
       "      <th>3</th>\n",
       "      <td>Calgary</td>\n",
       "      <td>African Choice Market</td>\n",
       "      <td>93.0</td>\n",
       "      <td>4.2</td>\n",
       "      <td>ChdDSUhNMG9nS0VJQ0FnSUNSbmJmNTZnRRAB</td>\n",
       "      <td>I went to return an item (white seed melon) I bought less than 10 days with proof of my receipt. The owner of the store told me I wouldn’t get a refund due to “so called food handling”. This was a dry product in its original packaging and unopened. The product had no expiry date on the package when I bought it, the receipt had no return policy whatsoever. So what gives them the right to tell me about handling?\\n\\nThis is a store I have seen expired palm oils on the shelf severally but the store owner had the audacity to preach to me about food handling. I want to point out the double standard and hypocrisy. I’m definitely boycotting that store but will file a complaint to Consumer Protection Services. Shame on them!</td>\n",
       "      <td>1</td>\n",
       "      <td>4/8/2023 14:48</td>\n",
       "      <td>0</td>\n",
       "    </tr>\n",
       "    <tr>\n",
       "      <th>4</th>\n",
       "      <td>Calgary</td>\n",
       "      <td>African Choice Market</td>\n",
       "      <td>93.0</td>\n",
       "      <td>4.2</td>\n",
       "      <td>ChdDSUhNMG9nS0VJQ0FnSUNSdklQaHpBRRAB</td>\n",
       "      <td>Very nice atmosphere, the madam there was very polite and the prices were really good. I will definitely be coming here again</td>\n",
       "      <td>5</td>\n",
       "      <td>3/27/2023 23:33</td>\n",
       "      <td>1</td>\n",
       "    </tr>\n",
       "  </tbody>\n",
       "</table>\n",
       "</div>"
      ],
      "text/plain": [
       "      city                   name  reviews  rating  \\\n",
       "0  Calgary  African Variety Store     21.0     4.0   \n",
       "1  Calgary  African Variety Store     21.0     4.0   \n",
       "2  Calgary  African Variety Store     21.0     4.0   \n",
       "3  Calgary  African Choice Market     93.0     4.2   \n",
       "4  Calgary  African Choice Market     93.0     4.2   \n",
       "\n",
       "                              review_id  \\\n",
       "0   ChZDSUhNMG9nS0VJQ0FnSUN1ck1tNGR3EAE   \n",
       "1   ChZDSUhNMG9nS0VJQ0FnSURTeC1ETGJ3EAE   \n",
       "2  ChdDSUhNMG9nS0VJQ0FnSUNrenF6SzB3RRAB   \n",
       "3  ChdDSUhNMG9nS0VJQ0FnSUNSbmJmNTZnRRAB   \n",
       "4  ChdDSUhNMG9nS0VJQ0FnSUNSdklQaHpBRRAB   \n",
       "\n",
       "                                                                                                                                                                                                                                                                                                                                                                                                                                                                                                                                                                                                                                                                                                                                             review_text  \\\n",
       "0                                                                                                                                                                                                                                                                                                                                                                                                                                                                                                                                                                                                                                                      You will find Ethiopian traditional items and raw materials (teff and wheat) for Injera and bread   \n",
       "1                                                                                                                                                                                                                                                                                                                                                                                                                                                                              According to AHS found dead mouse in store with mouse dropping, meat thawing at room temperature. Foodborne pathogens multiply quickly at room temperature. With food born pathogens they do not neccesarily have a smell or taste off to be bad. Please learn from this.   \n",
       "2                                                                                                                                                                                                                                                                                                                                                                                                                                                                                                                                                                                                                                   Good selection of ethiopian  species , grain, cultural items. You can also find   meat , farm chicken and whole lamb   \n",
       "3  I went to return an item (white seed melon) I bought less than 10 days with proof of my receipt. The owner of the store told me I wouldn’t get a refund due to “so called food handling”. This was a dry product in its original packaging and unopened. The product had no expiry date on the package when I bought it, the receipt had no return policy whatsoever. So what gives them the right to tell me about handling?\\n\\nThis is a store I have seen expired palm oils on the shelf severally but the store owner had the audacity to preach to me about food handling. I want to point out the double standard and hypocrisy. I’m definitely boycotting that store but will file a complaint to Consumer Protection Services. Shame on them!   \n",
       "4                                                                                                                                                                                                                                                                                                                                                                                                                                                                                                                                                                                                                          Very nice atmosphere, the madam there was very polite and the prices were really good. I will definitely be coming here again   \n",
       "\n",
       "   review_rating review_datetime_utc  Labels  \n",
       "0              5     7/22/2022 20:52       1  \n",
       "1              1     1/11/2021 15:00       0  \n",
       "2              5      6/22/2019 6:24       1  \n",
       "3              1      4/8/2023 14:48       0  \n",
       "4              5     3/27/2023 23:33       1  "
      ]
     },
     "execution_count": 3,
     "metadata": {},
     "output_type": "execute_result"
    }
   ],
   "source": [
    "df_labelled = pd.read_csv('manual_labels.csv', index_col = 0).reset_index(drop = True)\n",
    "\n",
    "df_labelled.head()"
   ]
  },
  {
   "cell_type": "code",
   "execution_count": 4,
   "id": "2b6a09bb",
   "metadata": {},
   "outputs": [
    {
     "data": {
      "text/plain": [
       "(241, 9)"
      ]
     },
     "execution_count": 4,
     "metadata": {},
     "output_type": "execute_result"
    }
   ],
   "source": [
    "## check for shape of labelled dataset\n",
    "\n",
    "df_labelled.shape"
   ]
  },
  {
   "cell_type": "markdown",
   "id": "e46fb6d6",
   "metadata": {},
   "source": [
    "### Importing dataset to be labelled"
   ]
  },
  {
   "cell_type": "code",
   "execution_count": 5,
   "id": "89768836",
   "metadata": {},
   "outputs": [
    {
     "data": {
      "text/html": [
       "<div>\n",
       "<style scoped>\n",
       "    .dataframe tbody tr th:only-of-type {\n",
       "        vertical-align: middle;\n",
       "    }\n",
       "\n",
       "    .dataframe tbody tr th {\n",
       "        vertical-align: top;\n",
       "    }\n",
       "\n",
       "    .dataframe thead th {\n",
       "        text-align: right;\n",
       "    }\n",
       "</style>\n",
       "<table border=\"1\" class=\"dataframe\">\n",
       "  <thead>\n",
       "    <tr style=\"text-align: right;\">\n",
       "      <th></th>\n",
       "      <th>city</th>\n",
       "      <th>name</th>\n",
       "      <th>reviews</th>\n",
       "      <th>rating</th>\n",
       "      <th>review_id</th>\n",
       "      <th>review_text</th>\n",
       "      <th>review_rating</th>\n",
       "      <th>review_datetime_utc</th>\n",
       "    </tr>\n",
       "  </thead>\n",
       "  <tbody>\n",
       "    <tr>\n",
       "      <th>0</th>\n",
       "      <td>Calgary</td>\n",
       "      <td>African Variety Store</td>\n",
       "      <td>21.0</td>\n",
       "      <td>4.0</td>\n",
       "      <td>ChZDSUhNMG9nS0VJQ0FnSUNhOWN6TlJ3EAE</td>\n",
       "      <td>Very friendly people from my home country ethiopian.  Always good service and friendly community.</td>\n",
       "      <td>5</td>\n",
       "      <td>8/6/2021 1:33</td>\n",
       "    </tr>\n",
       "    <tr>\n",
       "      <th>1</th>\n",
       "      <td>Calgary</td>\n",
       "      <td>African Variety Store</td>\n",
       "      <td>21.0</td>\n",
       "      <td>4.0</td>\n",
       "      <td>ChdDSUhNMG9nS0VJQ0FnSURZbmZ6d2tBRRAB</td>\n",
       "      <td>It's best place to get Ethiopian spices and food staffs</td>\n",
       "      <td>5</td>\n",
       "      <td>5/18/2019 20:55</td>\n",
       "    </tr>\n",
       "    <tr>\n",
       "      <th>2</th>\n",
       "      <td>Calgary</td>\n",
       "      <td>African Variety Store</td>\n",
       "      <td>21.0</td>\n",
       "      <td>4.0</td>\n",
       "      <td>ChZDSUhNMG9nS0VJQ0FnSUNpbnU3LVl3EAE</td>\n",
       "      <td>It was a great fresh whole lamb</td>\n",
       "      <td>5</td>\n",
       "      <td>11/3/2020 16:23</td>\n",
       "    </tr>\n",
       "    <tr>\n",
       "      <th>3</th>\n",
       "      <td>Calgary</td>\n",
       "      <td>African Variety Store</td>\n",
       "      <td>21.0</td>\n",
       "      <td>4.0</td>\n",
       "      <td>ChZDSUhNMG9nS0VJQ0FnSUNCLWRXNllREAE</td>\n",
       "      <td>Their berbere is not the right one,,,,</td>\n",
       "      <td>1</td>\n",
       "      <td>12/30/2022 9:03</td>\n",
       "    </tr>\n",
       "    <tr>\n",
       "      <th>4</th>\n",
       "      <td>Calgary</td>\n",
       "      <td>African Choice Market</td>\n",
       "      <td>93.0</td>\n",
       "      <td>4.2</td>\n",
       "      <td>ChZDSUhNMG9nS0VJQ0FnSURjOEthWFlBEAE</td>\n",
       "      <td>I have been a long time customer of this store and have always had great experience. However, recently, with the change in staffing my experiences has been less than pleasant. Today, I attended to do my regular shopping as usual and noticed that their prices has increase drastically. I was buying this items for my mom, who is not in Calgary. I bought a pepper, even though there was no price anywhere the item was located. It occurred to me after leaving the store to check with my mom whether or not she would be fine with the 10 dollar price on such a small amount of pepper. She said not to buy it and to return it. I returned to the store less than 5 minutes later only for them to be telling me that they are not doing returns due to covid 19. Which is understandable. However, this needs to be made aware to all customers when arriving at the door not behind your counter where no one ever thought to look. further, there is nothing preventing your store associates  mention that to every customers to further reinforce that information. After the store associate realized that I was going to stay there as long as it takes for her to refund my money, she did. This experience left a bad taste in my mouth and would like to see improvement.</td>\n",
       "      <td>1</td>\n",
       "      <td>5/17/2020 0:19</td>\n",
       "    </tr>\n",
       "  </tbody>\n",
       "</table>\n",
       "</div>"
      ],
      "text/plain": [
       "      city                   name  reviews  rating  \\\n",
       "0  Calgary  African Variety Store     21.0     4.0   \n",
       "1  Calgary  African Variety Store     21.0     4.0   \n",
       "2  Calgary  African Variety Store     21.0     4.0   \n",
       "3  Calgary  African Variety Store     21.0     4.0   \n",
       "4  Calgary  African Choice Market     93.0     4.2   \n",
       "\n",
       "                              review_id  \\\n",
       "0   ChZDSUhNMG9nS0VJQ0FnSUNhOWN6TlJ3EAE   \n",
       "1  ChdDSUhNMG9nS0VJQ0FnSURZbmZ6d2tBRRAB   \n",
       "2   ChZDSUhNMG9nS0VJQ0FnSUNpbnU3LVl3EAE   \n",
       "3   ChZDSUhNMG9nS0VJQ0FnSUNCLWRXNllREAE   \n",
       "4   ChZDSUhNMG9nS0VJQ0FnSURjOEthWFlBEAE   \n",
       "\n",
       "                                                                                                                                                                                                                                                                                                                                                                                                                                                                                                                                                                                                                                                                                                                                                                                                                                                                                                                                                                                                                                                                                                                                                                                                                                                                                        review_text  \\\n",
       "0                                                                                                                                                                                                                                                                                                                                                                                                                                                                                                                                                                                                                                                                                                                                                                                                                                                                                                                                                                                                                                                                                                                                                                                                 Very friendly people from my home country ethiopian.  Always good service and friendly community.   \n",
       "1                                                                                                                                                                                                                                                                                                                                                                                                                                                                                                                                                                                                                                                                                                                                                                                                                                                                                                                                                                                                                                                                                                                                                                                                                                           It's best place to get Ethiopian spices and food staffs   \n",
       "2                                                                                                                                                                                                                                                                                                                                                                                                                                                                                                                                                                                                                                                                                                                                                                                                                                                                                                                                                                                                                                                                                                                                                                                                                                                                   It was a great fresh whole lamb   \n",
       "3                                                                                                                                                                                                                                                                                                                                                                                                                                                                                                                                                                                                                                                                                                                                                                                                                                                                                                                                                                                                                                                                                                                                                                                                                                                            Their berbere is not the right one,,,,   \n",
       "4  I have been a long time customer of this store and have always had great experience. However, recently, with the change in staffing my experiences has been less than pleasant. Today, I attended to do my regular shopping as usual and noticed that their prices has increase drastically. I was buying this items for my mom, who is not in Calgary. I bought a pepper, even though there was no price anywhere the item was located. It occurred to me after leaving the store to check with my mom whether or not she would be fine with the 10 dollar price on such a small amount of pepper. She said not to buy it and to return it. I returned to the store less than 5 minutes later only for them to be telling me that they are not doing returns due to covid 19. Which is understandable. However, this needs to be made aware to all customers when arriving at the door not behind your counter where no one ever thought to look. further, there is nothing preventing your store associates  mention that to every customers to further reinforce that information. After the store associate realized that I was going to stay there as long as it takes for her to refund my money, she did. This experience left a bad taste in my mouth and would like to see improvement.   \n",
       "\n",
       "   review_rating review_datetime_utc  \n",
       "0              5       8/6/2021 1:33  \n",
       "1              5     5/18/2019 20:55  \n",
       "2              5     11/3/2020 16:23  \n",
       "3              1     12/30/2022 9:03  \n",
       "4              1      5/17/2020 0:19  "
      ]
     },
     "execution_count": 5,
     "metadata": {},
     "output_type": "execute_result"
    }
   ],
   "source": [
    "df_to_label = pd.read_csv('for_labeling.csv', index_col = 0).reset_index(drop = True)\n",
    "                          \n",
    "df_to_label.head()                          "
   ]
  },
  {
   "cell_type": "code",
   "execution_count": 6,
   "id": "ba6975ac",
   "metadata": {},
   "outputs": [
    {
     "data": {
      "text/plain": [
       "(2047, 8)"
      ]
     },
     "execution_count": 6,
     "metadata": {},
     "output_type": "execute_result"
    }
   ],
   "source": [
    "## check for shape of unlabelled dataset\n",
    "\n",
    "df_to_label.shape"
   ]
  },
  {
   "cell_type": "code",
   "execution_count": null,
   "id": "87c0aaaa",
   "metadata": {},
   "outputs": [],
   "source": []
  },
  {
   "cell_type": "markdown",
   "id": "085df3f2",
   "metadata": {},
   "source": [
    "## 3. Data Cleaning & Pre-processing"
   ]
  },
  {
   "cell_type": "markdown",
   "id": "2aa39cee",
   "metadata": {},
   "source": [
    "#### (i) Removing punctuation"
   ]
  },
  {
   "cell_type": "code",
   "execution_count": 7,
   "id": "ebaa7387",
   "metadata": {},
   "outputs": [
    {
     "data": {
      "text/plain": [
       "'!\"#$%&\\'()*+,-./:;<=>?@[\\\\]^_`{|}~'"
      ]
     },
     "execution_count": 7,
     "metadata": {},
     "output_type": "execute_result"
    }
   ],
   "source": [
    "## Listing punctuation is included in the default list?\n",
    "\n",
    "string.punctuation"
   ]
  },
  {
   "cell_type": "code",
   "execution_count": 8,
   "id": "755d0106",
   "metadata": {},
   "outputs": [],
   "source": [
    "# Defining a function to remove punctuation in our messages\n",
    "\n",
    "def remove_punct(text):\n",
    "    text2 = \"\".join([char for char in text if char not in string.punctuation])\n",
    "    return text2"
   ]
  },
  {
   "cell_type": "code",
   "execution_count": 9,
   "id": "698dafbd",
   "metadata": {},
   "outputs": [],
   "source": [
    "df_labelled['review_text_clean'] = df_labelled['review_text'].apply(lambda x: remove_punct(x))\n",
    "\n",
    "df_to_label['review_text_clean'] = df_to_label['review_text'].apply(lambda x: remove_punct(x))\n"
   ]
  },
  {
   "cell_type": "markdown",
   "id": "aabe19c8",
   "metadata": {},
   "source": [
    "#### (ii) Split sentences into words and make lowercase"
   ]
  },
  {
   "cell_type": "code",
   "execution_count": 10,
   "id": "d0cab207",
   "metadata": {},
   "outputs": [],
   "source": [
    "# Defining a function to split the sentences into a list of words\n",
    "\n",
    "def tokenize(text):\n",
    "    tokens = text.split()\n",
    "    return tokens\n"
   ]
  },
  {
   "cell_type": "code",
   "execution_count": 11,
   "id": "a10882cd",
   "metadata": {},
   "outputs": [],
   "source": [
    "df_labelled['text_tokenized'] = df_labelled['review_text_clean'].apply(lambda x: tokenize(x.lower()))\n",
    "\n",
    "df_to_label['text_tokenized'] = df_to_label['review_text_clean'].apply(lambda x: tokenize(x.lower()))\n"
   ]
  },
  {
   "cell_type": "markdown",
   "id": "c4b1ed48",
   "metadata": {},
   "source": [
    "#### (iii) Removing Stopwords"
   ]
  },
  {
   "cell_type": "code",
   "execution_count": 12,
   "id": "91450c05",
   "metadata": {},
   "outputs": [
    {
     "name": "stderr",
     "output_type": "stream",
     "text": [
      "[nltk_data] Downloading package stopwords to\n",
      "[nltk_data]     C:\\Users\\DEVOTION\\AppData\\Roaming\\nltk_data...\n",
      "[nltk_data]   Package stopwords is already up-to-date!\n"
     ]
    }
   ],
   "source": [
    "## Download/update stopwords\n",
    "\n",
    "nltk.download('stopwords')\n",
    "from nltk.corpus import stopwords"
   ]
  },
  {
   "cell_type": "code",
   "execution_count": 13,
   "id": "24d692fc",
   "metadata": {},
   "outputs": [
    {
     "data": {
      "text/plain": [
       "['i',\n",
       " 'me',\n",
       " 'my',\n",
       " 'myself',\n",
       " 'we',\n",
       " 'our',\n",
       " 'ours',\n",
       " 'ourselves',\n",
       " 'you',\n",
       " \"you're\",\n",
       " \"you've\",\n",
       " \"you'll\",\n",
       " \"you'd\",\n",
       " 'your',\n",
       " 'yours',\n",
       " 'yourself',\n",
       " 'yourselves',\n",
       " 'he',\n",
       " 'him',\n",
       " 'his',\n",
       " 'himself',\n",
       " 'she',\n",
       " \"she's\",\n",
       " 'her',\n",
       " 'hers',\n",
       " 'herself',\n",
       " 'it',\n",
       " \"it's\",\n",
       " 'its',\n",
       " 'itself',\n",
       " 'they',\n",
       " 'them',\n",
       " 'their',\n",
       " 'theirs',\n",
       " 'themselves',\n",
       " 'what',\n",
       " 'which',\n",
       " 'who',\n",
       " 'whom',\n",
       " 'this',\n",
       " 'that',\n",
       " \"that'll\",\n",
       " 'these',\n",
       " 'those',\n",
       " 'am',\n",
       " 'is',\n",
       " 'are',\n",
       " 'was',\n",
       " 'were',\n",
       " 'be',\n",
       " 'been',\n",
       " 'being',\n",
       " 'have',\n",
       " 'has',\n",
       " 'had',\n",
       " 'having',\n",
       " 'do',\n",
       " 'does',\n",
       " 'did',\n",
       " 'doing',\n",
       " 'a',\n",
       " 'an',\n",
       " 'the',\n",
       " 'and',\n",
       " 'but',\n",
       " 'if',\n",
       " 'or',\n",
       " 'because',\n",
       " 'as',\n",
       " 'until',\n",
       " 'while',\n",
       " 'of',\n",
       " 'at',\n",
       " 'by',\n",
       " 'for',\n",
       " 'with',\n",
       " 'about',\n",
       " 'against',\n",
       " 'between',\n",
       " 'into',\n",
       " 'through',\n",
       " 'during',\n",
       " 'before',\n",
       " 'after',\n",
       " 'above',\n",
       " 'below',\n",
       " 'to',\n",
       " 'from',\n",
       " 'up',\n",
       " 'down',\n",
       " 'in',\n",
       " 'out',\n",
       " 'on',\n",
       " 'off',\n",
       " 'over',\n",
       " 'under',\n",
       " 'again',\n",
       " 'further',\n",
       " 'then',\n",
       " 'once',\n",
       " 'here',\n",
       " 'there',\n",
       " 'when',\n",
       " 'where',\n",
       " 'why',\n",
       " 'how',\n",
       " 'all',\n",
       " 'any',\n",
       " 'both',\n",
       " 'each',\n",
       " 'few',\n",
       " 'more',\n",
       " 'most',\n",
       " 'other',\n",
       " 'some',\n",
       " 'such',\n",
       " 'no',\n",
       " 'nor',\n",
       " 'not',\n",
       " 'only',\n",
       " 'own',\n",
       " 'same',\n",
       " 'so',\n",
       " 'than',\n",
       " 'too',\n",
       " 'very',\n",
       " 's',\n",
       " 't',\n",
       " 'can',\n",
       " 'will',\n",
       " 'just',\n",
       " 'don',\n",
       " \"don't\",\n",
       " 'should',\n",
       " \"should've\",\n",
       " 'now',\n",
       " 'd',\n",
       " 'll',\n",
       " 'm',\n",
       " 'o',\n",
       " 're',\n",
       " 've',\n",
       " 'y',\n",
       " 'ain',\n",
       " 'aren',\n",
       " \"aren't\",\n",
       " 'couldn',\n",
       " \"couldn't\",\n",
       " 'didn',\n",
       " \"didn't\",\n",
       " 'doesn',\n",
       " \"doesn't\",\n",
       " 'hadn',\n",
       " \"hadn't\",\n",
       " 'hasn',\n",
       " \"hasn't\",\n",
       " 'haven',\n",
       " \"haven't\",\n",
       " 'isn',\n",
       " \"isn't\",\n",
       " 'ma',\n",
       " 'mightn',\n",
       " \"mightn't\",\n",
       " 'mustn',\n",
       " \"mustn't\",\n",
       " 'needn',\n",
       " \"needn't\",\n",
       " 'shan',\n",
       " \"shan't\",\n",
       " 'shouldn',\n",
       " \"shouldn't\",\n",
       " 'wasn',\n",
       " \"wasn't\",\n",
       " 'weren',\n",
       " \"weren't\",\n",
       " 'won',\n",
       " \"won't\",\n",
       " 'wouldn',\n",
       " \"wouldn't\"]"
      ]
     },
     "execution_count": 13,
     "metadata": {},
     "output_type": "execute_result"
    }
   ],
   "source": [
    "stopwords.words('english')"
   ]
  },
  {
   "cell_type": "code",
   "execution_count": 14,
   "id": "e388d559",
   "metadata": {},
   "outputs": [],
   "source": [
    "stopwords_ENG = stopwords.words('english')"
   ]
  },
  {
   "cell_type": "code",
   "execution_count": 15,
   "id": "07b1940b",
   "metadata": {},
   "outputs": [],
   "source": [
    "# Defining a function to remove all stopwords\n",
    "def remove_stopwords(tokenized_text):\n",
    "    text = [word for word in tokenized_text if word not in stopwords_ENG]\n",
    "    return text\n"
   ]
  },
  {
   "cell_type": "code",
   "execution_count": 16,
   "id": "5b73f571",
   "metadata": {},
   "outputs": [],
   "source": [
    "df_labelled['tokenized_nostop'] = df_labelled['text_tokenized'].apply(lambda x: remove_stopwords(x))\n",
    "\n",
    "df_to_label['tokenized_nostop'] = df_to_label['text_tokenized'].apply(lambda x: remove_stopwords(x))"
   ]
  },
  {
   "cell_type": "markdown",
   "id": "e19379cd",
   "metadata": {},
   "source": [
    "#### iv) Join tokenized_nostop to form a string. "
   ]
  },
  {
   "cell_type": "code",
   "execution_count": 17,
   "id": "50aabd01",
   "metadata": {},
   "outputs": [],
   "source": [
    "df_labelled['string_nostop'] = df_labelled['tokenized_nostop'].apply(lambda x: \" \".join(x))\n",
    "\n",
    "df_to_label['string_nostop'] = df_to_label['tokenized_nostop'].apply(lambda x: \" \".join(x))"
   ]
  },
  {
   "cell_type": "code",
   "execution_count": 18,
   "id": "3b529a04",
   "metadata": {},
   "outputs": [
    {
     "data": {
      "text/html": [
       "<div>\n",
       "<style scoped>\n",
       "    .dataframe tbody tr th:only-of-type {\n",
       "        vertical-align: middle;\n",
       "    }\n",
       "\n",
       "    .dataframe tbody tr th {\n",
       "        vertical-align: top;\n",
       "    }\n",
       "\n",
       "    .dataframe thead th {\n",
       "        text-align: right;\n",
       "    }\n",
       "</style>\n",
       "<table border=\"1\" class=\"dataframe\">\n",
       "  <thead>\n",
       "    <tr style=\"text-align: right;\">\n",
       "      <th></th>\n",
       "      <th>city</th>\n",
       "      <th>name</th>\n",
       "      <th>reviews</th>\n",
       "      <th>rating</th>\n",
       "      <th>review_id</th>\n",
       "      <th>review_text</th>\n",
       "      <th>review_rating</th>\n",
       "      <th>review_datetime_utc</th>\n",
       "      <th>Labels</th>\n",
       "      <th>review_text_clean</th>\n",
       "      <th>text_tokenized</th>\n",
       "      <th>tokenized_nostop</th>\n",
       "      <th>string_nostop</th>\n",
       "    </tr>\n",
       "  </thead>\n",
       "  <tbody>\n",
       "    <tr>\n",
       "      <th>0</th>\n",
       "      <td>Calgary</td>\n",
       "      <td>African Variety Store</td>\n",
       "      <td>21.0</td>\n",
       "      <td>4.0</td>\n",
       "      <td>ChZDSUhNMG9nS0VJQ0FnSUN1ck1tNGR3EAE</td>\n",
       "      <td>You will find Ethiopian traditional items and raw materials (teff and wheat) for Injera and bread</td>\n",
       "      <td>5</td>\n",
       "      <td>7/22/2022 20:52</td>\n",
       "      <td>1</td>\n",
       "      <td>You will find Ethiopian traditional items and raw materials teff and wheat for Injera and bread</td>\n",
       "      <td>[you, will, find, ethiopian, traditional, items, and, raw, materials, teff, and, wheat, for, injera, and, bread]</td>\n",
       "      <td>[find, ethiopian, traditional, items, raw, materials, teff, wheat, injera, bread]</td>\n",
       "      <td>find ethiopian traditional items raw materials teff wheat injera bread</td>\n",
       "    </tr>\n",
       "    <tr>\n",
       "      <th>1</th>\n",
       "      <td>Calgary</td>\n",
       "      <td>African Variety Store</td>\n",
       "      <td>21.0</td>\n",
       "      <td>4.0</td>\n",
       "      <td>ChZDSUhNMG9nS0VJQ0FnSURTeC1ETGJ3EAE</td>\n",
       "      <td>According to AHS found dead mouse in store with mouse dropping, meat thawing at room temperature. Foodborne pathogens multiply quickly at room temperature. With food born pathogens they do not neccesarily have a smell or taste off to be bad. Please learn from this.</td>\n",
       "      <td>1</td>\n",
       "      <td>1/11/2021 15:00</td>\n",
       "      <td>0</td>\n",
       "      <td>According to AHS found dead mouse in store with mouse dropping meat thawing at room temperature Foodborne pathogens multiply quickly at room temperature With food born pathogens they do not neccesarily have a smell or taste off to be bad Please learn from this</td>\n",
       "      <td>[according, to, ahs, found, dead, mouse, in, store, with, mouse, dropping, meat, thawing, at, room, temperature, foodborne, pathogens, multiply, quickly, at, room, temperature, with, food, born, pathogens, they, do, not, neccesarily, have, a, smell, or, taste, off, to, be, bad, please, learn, from, this]</td>\n",
       "      <td>[according, ahs, found, dead, mouse, store, mouse, dropping, meat, thawing, room, temperature, foodborne, pathogens, multiply, quickly, room, temperature, food, born, pathogens, neccesarily, smell, taste, bad, please, learn]</td>\n",
       "      <td>according ahs found dead mouse store mouse dropping meat thawing room temperature foodborne pathogens multiply quickly room temperature food born pathogens neccesarily smell taste bad please learn</td>\n",
       "    </tr>\n",
       "    <tr>\n",
       "      <th>2</th>\n",
       "      <td>Calgary</td>\n",
       "      <td>African Variety Store</td>\n",
       "      <td>21.0</td>\n",
       "      <td>4.0</td>\n",
       "      <td>ChdDSUhNMG9nS0VJQ0FnSUNrenF6SzB3RRAB</td>\n",
       "      <td>Good selection of ethiopian  species , grain, cultural items. You can also find   meat , farm chicken and whole lamb</td>\n",
       "      <td>5</td>\n",
       "      <td>6/22/2019 6:24</td>\n",
       "      <td>1</td>\n",
       "      <td>Good selection of ethiopian  species  grain cultural items You can also find   meat  farm chicken and whole lamb</td>\n",
       "      <td>[good, selection, of, ethiopian, species, grain, cultural, items, you, can, also, find, meat, farm, chicken, and, whole, lamb]</td>\n",
       "      <td>[good, selection, ethiopian, species, grain, cultural, items, also, find, meat, farm, chicken, whole, lamb]</td>\n",
       "      <td>good selection ethiopian species grain cultural items also find meat farm chicken whole lamb</td>\n",
       "    </tr>\n",
       "    <tr>\n",
       "      <th>3</th>\n",
       "      <td>Calgary</td>\n",
       "      <td>African Choice Market</td>\n",
       "      <td>93.0</td>\n",
       "      <td>4.2</td>\n",
       "      <td>ChdDSUhNMG9nS0VJQ0FnSUNSbmJmNTZnRRAB</td>\n",
       "      <td>I went to return an item (white seed melon) I bought less than 10 days with proof of my receipt. The owner of the store told me I wouldn’t get a refund due to “so called food handling”. This was a dry product in its original packaging and unopened. The product had no expiry date on the package when I bought it, the receipt had no return policy whatsoever. So what gives them the right to tell me about handling?\\n\\nThis is a store I have seen expired palm oils on the shelf severally but the store owner had the audacity to preach to me about food handling. I want to point out the double standard and hypocrisy. I’m definitely boycotting that store but will file a complaint to Consumer Protection Services. Shame on them!</td>\n",
       "      <td>1</td>\n",
       "      <td>4/8/2023 14:48</td>\n",
       "      <td>0</td>\n",
       "      <td>I went to return an item white seed melon I bought less than 10 days with proof of my receipt The owner of the store told me I wouldn’t get a refund due to “so called food handling” This was a dry product in its original packaging and unopened The product had no expiry date on the package when I bought it the receipt had no return policy whatsoever So what gives them the right to tell me about handling\\n\\nThis is a store I have seen expired palm oils on the shelf severally but the store owner had the audacity to preach to me about food handling I want to point out the double standard and hypocrisy I’m definitely boycotting that store but will file a complaint to Consumer Protection Services Shame on them</td>\n",
       "      <td>[i, went, to, return, an, item, white, seed, melon, i, bought, less, than, 10, days, with, proof, of, my, receipt, the, owner, of, the, store, told, me, i, wouldn’t, get, a, refund, due, to, “so, called, food, handling”, this, was, a, dry, product, in, its, original, packaging, and, unopened, the, product, had, no, expiry, date, on, the, package, when, i, bought, it, the, receipt, had, no, return, policy, whatsoever, so, what, gives, them, the, right, to, tell, me, about, handling, this, is, a, store, i, have, seen, expired, palm, oils, on, the, shelf, severally, but, the, store, owner, had, the, ...]</td>\n",
       "      <td>[went, return, item, white, seed, melon, bought, less, 10, days, proof, receipt, owner, store, told, wouldn’t, get, refund, due, “so, called, food, handling”, dry, product, original, packaging, unopened, product, expiry, date, package, bought, receipt, return, policy, whatsoever, gives, right, tell, handling, store, seen, expired, palm, oils, shelf, severally, store, owner, audacity, preach, food, handling, want, point, double, standard, hypocrisy, i’m, definitely, boycotting, store, file, complaint, consumer, protection, services, shame]</td>\n",
       "      <td>went return item white seed melon bought less 10 days proof receipt owner store told wouldn’t get refund due “so called food handling” dry product original packaging unopened product expiry date package bought receipt return policy whatsoever gives right tell handling store seen expired palm oils shelf severally store owner audacity preach food handling want point double standard hypocrisy i’m definitely boycotting store file complaint consumer protection services shame</td>\n",
       "    </tr>\n",
       "    <tr>\n",
       "      <th>4</th>\n",
       "      <td>Calgary</td>\n",
       "      <td>African Choice Market</td>\n",
       "      <td>93.0</td>\n",
       "      <td>4.2</td>\n",
       "      <td>ChdDSUhNMG9nS0VJQ0FnSUNSdklQaHpBRRAB</td>\n",
       "      <td>Very nice atmosphere, the madam there was very polite and the prices were really good. I will definitely be coming here again</td>\n",
       "      <td>5</td>\n",
       "      <td>3/27/2023 23:33</td>\n",
       "      <td>1</td>\n",
       "      <td>Very nice atmosphere the madam there was very polite and the prices were really good I will definitely be coming here again</td>\n",
       "      <td>[very, nice, atmosphere, the, madam, there, was, very, polite, and, the, prices, were, really, good, i, will, definitely, be, coming, here, again]</td>\n",
       "      <td>[nice, atmosphere, madam, polite, prices, really, good, definitely, coming]</td>\n",
       "      <td>nice atmosphere madam polite prices really good definitely coming</td>\n",
       "    </tr>\n",
       "  </tbody>\n",
       "</table>\n",
       "</div>"
      ],
      "text/plain": [
       "      city                   name  reviews  rating  \\\n",
       "0  Calgary  African Variety Store     21.0     4.0   \n",
       "1  Calgary  African Variety Store     21.0     4.0   \n",
       "2  Calgary  African Variety Store     21.0     4.0   \n",
       "3  Calgary  African Choice Market     93.0     4.2   \n",
       "4  Calgary  African Choice Market     93.0     4.2   \n",
       "\n",
       "                              review_id  \\\n",
       "0   ChZDSUhNMG9nS0VJQ0FnSUN1ck1tNGR3EAE   \n",
       "1   ChZDSUhNMG9nS0VJQ0FnSURTeC1ETGJ3EAE   \n",
       "2  ChdDSUhNMG9nS0VJQ0FnSUNrenF6SzB3RRAB   \n",
       "3  ChdDSUhNMG9nS0VJQ0FnSUNSbmJmNTZnRRAB   \n",
       "4  ChdDSUhNMG9nS0VJQ0FnSUNSdklQaHpBRRAB   \n",
       "\n",
       "                                                                                                                                                                                                                                                                                                                                                                                                                                                                                                                                                                                                                                                                                                                                             review_text  \\\n",
       "0                                                                                                                                                                                                                                                                                                                                                                                                                                                                                                                                                                                                                                                      You will find Ethiopian traditional items and raw materials (teff and wheat) for Injera and bread   \n",
       "1                                                                                                                                                                                                                                                                                                                                                                                                                                                                              According to AHS found dead mouse in store with mouse dropping, meat thawing at room temperature. Foodborne pathogens multiply quickly at room temperature. With food born pathogens they do not neccesarily have a smell or taste off to be bad. Please learn from this.   \n",
       "2                                                                                                                                                                                                                                                                                                                                                                                                                                                                                                                                                                                                                                   Good selection of ethiopian  species , grain, cultural items. You can also find   meat , farm chicken and whole lamb   \n",
       "3  I went to return an item (white seed melon) I bought less than 10 days with proof of my receipt. The owner of the store told me I wouldn’t get a refund due to “so called food handling”. This was a dry product in its original packaging and unopened. The product had no expiry date on the package when I bought it, the receipt had no return policy whatsoever. So what gives them the right to tell me about handling?\\n\\nThis is a store I have seen expired palm oils on the shelf severally but the store owner had the audacity to preach to me about food handling. I want to point out the double standard and hypocrisy. I’m definitely boycotting that store but will file a complaint to Consumer Protection Services. Shame on them!   \n",
       "4                                                                                                                                                                                                                                                                                                                                                                                                                                                                                                                                                                                                                          Very nice atmosphere, the madam there was very polite and the prices were really good. I will definitely be coming here again   \n",
       "\n",
       "   review_rating review_datetime_utc  Labels  \\\n",
       "0              5     7/22/2022 20:52       1   \n",
       "1              1     1/11/2021 15:00       0   \n",
       "2              5      6/22/2019 6:24       1   \n",
       "3              1      4/8/2023 14:48       0   \n",
       "4              5     3/27/2023 23:33       1   \n",
       "\n",
       "                                                                                                                                                                                                                                                                                                                                                                                                                                                                                                                                                                                                                                                                                                                           review_text_clean  \\\n",
       "0                                                                                                                                                                                                                                                                                                                                                                                                                                                                                                                                                                                                                                            You will find Ethiopian traditional items and raw materials teff and wheat for Injera and bread   \n",
       "1                                                                                                                                                                                                                                                                                                                                                                                                                                                                       According to AHS found dead mouse in store with mouse dropping meat thawing at room temperature Foodborne pathogens multiply quickly at room temperature With food born pathogens they do not neccesarily have a smell or taste off to be bad Please learn from this   \n",
       "2                                                                                                                                                                                                                                                                                                                                                                                                                                                                                                                                                                                                                           Good selection of ethiopian  species  grain cultural items You can also find   meat  farm chicken and whole lamb   \n",
       "3  I went to return an item white seed melon I bought less than 10 days with proof of my receipt The owner of the store told me I wouldn’t get a refund due to “so called food handling” This was a dry product in its original packaging and unopened The product had no expiry date on the package when I bought it the receipt had no return policy whatsoever So what gives them the right to tell me about handling\\n\\nThis is a store I have seen expired palm oils on the shelf severally but the store owner had the audacity to preach to me about food handling I want to point out the double standard and hypocrisy I’m definitely boycotting that store but will file a complaint to Consumer Protection Services Shame on them   \n",
       "4                                                                                                                                                                                                                                                                                                                                                                                                                                                                                                                                                                                                                Very nice atmosphere the madam there was very polite and the prices were really good I will definitely be coming here again   \n",
       "\n",
       "                                                                                                                                                                                                                                                                                                                                                                                                                                                                                                                                                                                                                     text_tokenized  \\\n",
       "0                                                                                                                                                                                                                                                                                                                                                                                                                                                                                                                  [you, will, find, ethiopian, traditional, items, and, raw, materials, teff, and, wheat, for, injera, and, bread]   \n",
       "1                                                                                                                                                                                                                                                                                                                 [according, to, ahs, found, dead, mouse, in, store, with, mouse, dropping, meat, thawing, at, room, temperature, foodborne, pathogens, multiply, quickly, at, room, temperature, with, food, born, pathogens, they, do, not, neccesarily, have, a, smell, or, taste, off, to, be, bad, please, learn, from, this]   \n",
       "2                                                                                                                                                                                                                                                                                                                                                                                                                                                                                                    [good, selection, of, ethiopian, species, grain, cultural, items, you, can, also, find, meat, farm, chicken, and, whole, lamb]   \n",
       "3  [i, went, to, return, an, item, white, seed, melon, i, bought, less, than, 10, days, with, proof, of, my, receipt, the, owner, of, the, store, told, me, i, wouldn’t, get, a, refund, due, to, “so, called, food, handling”, this, was, a, dry, product, in, its, original, packaging, and, unopened, the, product, had, no, expiry, date, on, the, package, when, i, bought, it, the, receipt, had, no, return, policy, whatsoever, so, what, gives, them, the, right, to, tell, me, about, handling, this, is, a, store, i, have, seen, expired, palm, oils, on, the, shelf, severally, but, the, store, owner, had, the, ...]   \n",
       "4                                                                                                                                                                                                                                                                                                                                                                                                                                                                                [very, nice, atmosphere, the, madam, there, was, very, polite, and, the, prices, were, really, good, i, will, definitely, be, coming, here, again]   \n",
       "\n",
       "                                                                                                                                                                                                                                                                                                                                                                                                                                                                                                                                                   tokenized_nostop  \\\n",
       "0                                                                                                                                                                                                                                                                                                                                                                                                                                                                                 [find, ethiopian, traditional, items, raw, materials, teff, wheat, injera, bread]   \n",
       "1                                                                                                                                                                                                                                                                                                                                  [according, ahs, found, dead, mouse, store, mouse, dropping, meat, thawing, room, temperature, foodborne, pathogens, multiply, quickly, room, temperature, food, born, pathogens, neccesarily, smell, taste, bad, please, learn]   \n",
       "2                                                                                                                                                                                                                                                                                                                                                                                                                                                       [good, selection, ethiopian, species, grain, cultural, items, also, find, meat, farm, chicken, whole, lamb]   \n",
       "3  [went, return, item, white, seed, melon, bought, less, 10, days, proof, receipt, owner, store, told, wouldn’t, get, refund, due, “so, called, food, handling”, dry, product, original, packaging, unopened, product, expiry, date, package, bought, receipt, return, policy, whatsoever, gives, right, tell, handling, store, seen, expired, palm, oils, shelf, severally, store, owner, audacity, preach, food, handling, want, point, double, standard, hypocrisy, i’m, definitely, boycotting, store, file, complaint, consumer, protection, services, shame]   \n",
       "4                                                                                                                                                                                                                                                                                                                                                                                                                                                                                       [nice, atmosphere, madam, polite, prices, really, good, definitely, coming]   \n",
       "\n",
       "                                                                                                                                                                                                                                                                                                                                                                                                                                                                                string_nostop  \n",
       "0                                                                                                                                                                                                                                                                                                                                                                                                                      find ethiopian traditional items raw materials teff wheat injera bread  \n",
       "1                                                                                                                                                                                                                                                                                        according ahs found dead mouse store mouse dropping meat thawing room temperature foodborne pathogens multiply quickly room temperature food born pathogens neccesarily smell taste bad please learn  \n",
       "2                                                                                                                                                                                                                                                                                                                                                                                                good selection ethiopian species grain cultural items also find meat farm chicken whole lamb  \n",
       "3  went return item white seed melon bought less 10 days proof receipt owner store told wouldn’t get refund due “so called food handling” dry product original packaging unopened product expiry date package bought receipt return policy whatsoever gives right tell handling store seen expired palm oils shelf severally store owner audacity preach food handling want point double standard hypocrisy i’m definitely boycotting store file complaint consumer protection services shame  \n",
       "4                                                                                                                                                                                                                                                                                                                                                                                                                           nice atmosphere madam polite prices really good definitely coming  "
      ]
     },
     "execution_count": 18,
     "metadata": {},
     "output_type": "execute_result"
    }
   ],
   "source": [
    "df_labelled.head()"
   ]
  },
  {
   "cell_type": "code",
   "execution_count": 19,
   "id": "31b91f3c",
   "metadata": {},
   "outputs": [
    {
     "data": {
      "text/html": [
       "<div>\n",
       "<style scoped>\n",
       "    .dataframe tbody tr th:only-of-type {\n",
       "        vertical-align: middle;\n",
       "    }\n",
       "\n",
       "    .dataframe tbody tr th {\n",
       "        vertical-align: top;\n",
       "    }\n",
       "\n",
       "    .dataframe thead th {\n",
       "        text-align: right;\n",
       "    }\n",
       "</style>\n",
       "<table border=\"1\" class=\"dataframe\">\n",
       "  <thead>\n",
       "    <tr style=\"text-align: right;\">\n",
       "      <th></th>\n",
       "      <th>city</th>\n",
       "      <th>name</th>\n",
       "      <th>reviews</th>\n",
       "      <th>rating</th>\n",
       "      <th>review_id</th>\n",
       "      <th>review_text</th>\n",
       "      <th>review_rating</th>\n",
       "      <th>review_datetime_utc</th>\n",
       "      <th>review_text_clean</th>\n",
       "      <th>text_tokenized</th>\n",
       "      <th>tokenized_nostop</th>\n",
       "      <th>string_nostop</th>\n",
       "    </tr>\n",
       "  </thead>\n",
       "  <tbody>\n",
       "    <tr>\n",
       "      <th>0</th>\n",
       "      <td>Calgary</td>\n",
       "      <td>African Variety Store</td>\n",
       "      <td>21.0</td>\n",
       "      <td>4.0</td>\n",
       "      <td>ChZDSUhNMG9nS0VJQ0FnSUNhOWN6TlJ3EAE</td>\n",
       "      <td>Very friendly people from my home country ethiopian.  Always good service and friendly community.</td>\n",
       "      <td>5</td>\n",
       "      <td>8/6/2021 1:33</td>\n",
       "      <td>Very friendly people from my home country ethiopian  Always good service and friendly community</td>\n",
       "      <td>[very, friendly, people, from, my, home, country, ethiopian, always, good, service, and, friendly, community]</td>\n",
       "      <td>[friendly, people, home, country, ethiopian, always, good, service, friendly, community]</td>\n",
       "      <td>friendly people home country ethiopian always good service friendly community</td>\n",
       "    </tr>\n",
       "    <tr>\n",
       "      <th>1</th>\n",
       "      <td>Calgary</td>\n",
       "      <td>African Variety Store</td>\n",
       "      <td>21.0</td>\n",
       "      <td>4.0</td>\n",
       "      <td>ChdDSUhNMG9nS0VJQ0FnSURZbmZ6d2tBRRAB</td>\n",
       "      <td>It's best place to get Ethiopian spices and food staffs</td>\n",
       "      <td>5</td>\n",
       "      <td>5/18/2019 20:55</td>\n",
       "      <td>Its best place to get Ethiopian spices and food staffs</td>\n",
       "      <td>[its, best, place, to, get, ethiopian, spices, and, food, staffs]</td>\n",
       "      <td>[best, place, get, ethiopian, spices, food, staffs]</td>\n",
       "      <td>best place get ethiopian spices food staffs</td>\n",
       "    </tr>\n",
       "  </tbody>\n",
       "</table>\n",
       "</div>"
      ],
      "text/plain": [
       "      city                   name  reviews  rating  \\\n",
       "0  Calgary  African Variety Store     21.0     4.0   \n",
       "1  Calgary  African Variety Store     21.0     4.0   \n",
       "\n",
       "                              review_id  \\\n",
       "0   ChZDSUhNMG9nS0VJQ0FnSUNhOWN6TlJ3EAE   \n",
       "1  ChdDSUhNMG9nS0VJQ0FnSURZbmZ6d2tBRRAB   \n",
       "\n",
       "                                                                                         review_text  \\\n",
       "0  Very friendly people from my home country ethiopian.  Always good service and friendly community.   \n",
       "1                                            It's best place to get Ethiopian spices and food staffs   \n",
       "\n",
       "   review_rating review_datetime_utc  \\\n",
       "0              5       8/6/2021 1:33   \n",
       "1              5     5/18/2019 20:55   \n",
       "\n",
       "                                                                                 review_text_clean  \\\n",
       "0  Very friendly people from my home country ethiopian  Always good service and friendly community   \n",
       "1                                           Its best place to get Ethiopian spices and food staffs   \n",
       "\n",
       "                                                                                                  text_tokenized  \\\n",
       "0  [very, friendly, people, from, my, home, country, ethiopian, always, good, service, and, friendly, community]   \n",
       "1                                              [its, best, place, to, get, ethiopian, spices, and, food, staffs]   \n",
       "\n",
       "                                                                           tokenized_nostop  \\\n",
       "0  [friendly, people, home, country, ethiopian, always, good, service, friendly, community]   \n",
       "1                                       [best, place, get, ethiopian, spices, food, staffs]   \n",
       "\n",
       "                                                                   string_nostop  \n",
       "0  friendly people home country ethiopian always good service friendly community  \n",
       "1                                    best place get ethiopian spices food staffs  "
      ]
     },
     "execution_count": 19,
     "metadata": {},
     "output_type": "execute_result"
    }
   ],
   "source": [
    "df_to_label.head(2)"
   ]
  },
  {
   "cell_type": "code",
   "execution_count": null,
   "id": "828b59fd",
   "metadata": {},
   "outputs": [],
   "source": []
  },
  {
   "cell_type": "code",
   "execution_count": 20,
   "id": "12c1239f",
   "metadata": {},
   "outputs": [],
   "source": [
    "## Create an empty new column called labels in dataframe to be labelled\n",
    "\n",
    "df_to_label['Labels'] = \" \""
   ]
  },
  {
   "cell_type": "code",
   "execution_count": 21,
   "id": "aa1672a8",
   "metadata": {},
   "outputs": [
    {
     "name": "stdout",
     "output_type": "stream",
     "text": [
      "<class 'pandas.core.frame.DataFrame'>\n",
      "RangeIndex: 2047 entries, 0 to 2046\n",
      "Data columns (total 13 columns):\n",
      " #   Column               Non-Null Count  Dtype  \n",
      "---  ------               --------------  -----  \n",
      " 0   city                 2047 non-null   object \n",
      " 1   name                 2045 non-null   object \n",
      " 2   reviews              2011 non-null   float64\n",
      " 3   rating               2011 non-null   float64\n",
      " 4   review_id            2047 non-null   object \n",
      " 5   review_text          2047 non-null   object \n",
      " 6   review_rating        2047 non-null   int64  \n",
      " 7   review_datetime_utc  2047 non-null   object \n",
      " 8   review_text_clean    2047 non-null   object \n",
      " 9   text_tokenized       2047 non-null   object \n",
      " 10  tokenized_nostop     2047 non-null   object \n",
      " 11  string_nostop        2047 non-null   object \n",
      " 12  Labels               2047 non-null   object \n",
      "dtypes: float64(2), int64(1), object(10)\n",
      "memory usage: 208.0+ KB\n"
     ]
    }
   ],
   "source": [
    "df_to_label.info()"
   ]
  },
  {
   "cell_type": "code",
   "execution_count": 22,
   "id": "62e6a951",
   "metadata": {},
   "outputs": [],
   "source": [
    "df_to_label['review_text'] = df_to_label['review_text'].astype('string')"
   ]
  },
  {
   "cell_type": "code",
   "execution_count": null,
   "id": "51f16355",
   "metadata": {},
   "outputs": [],
   "source": []
  },
  {
   "cell_type": "markdown",
   "id": "21faa950",
   "metadata": {},
   "source": [
    "#### iv) Applying TfidfVectorizer"
   ]
  },
  {
   "cell_type": "code",
   "execution_count": 23,
   "id": "677974bc",
   "metadata": {},
   "outputs": [],
   "source": [
    "## creating an instance of TfidfVectorizer\n",
    "\n",
    "vectorizer = TfidfVectorizer(min_df=2, tokenizer=nltk.word_tokenize, max_features=5000, ngram_range=(1,2), use_idf = True, lowercase = True, strip_accents ='ascii')"
   ]
  },
  {
   "cell_type": "code",
   "execution_count": 24,
   "id": "2c040658",
   "metadata": {},
   "outputs": [
    {
     "name": "stderr",
     "output_type": "stream",
     "text": [
      "C:\\Users\\DEVOTION\\miniconda3\\lib\\site-packages\\sklearn\\feature_extraction\\text.py:525: UserWarning: The parameter 'token_pattern' will not be used since 'tokenizer' is not None'\n",
      "  warnings.warn(\n"
     ]
    }
   ],
   "source": [
    "## Fit a the TfidfVectorizer to the pre-processed data\n",
    "\n",
    "X = vectorizer.fit_transform(df_labelled['string_nostop'])\n"
   ]
  },
  {
   "cell_type": "code",
   "execution_count": 25,
   "id": "a6429283",
   "metadata": {},
   "outputs": [],
   "source": [
    "y = df_labelled['Labels']"
   ]
  },
  {
   "cell_type": "code",
   "execution_count": 26,
   "id": "c78314aa",
   "metadata": {},
   "outputs": [
    {
     "name": "stdout",
     "output_type": "stream",
     "text": [
      "(241, 1223)\n",
      "(241,)\n"
     ]
    }
   ],
   "source": [
    "## check the dimensions of X and y\n",
    "\n",
    "print(X.shape)\n",
    "print(y.shape)"
   ]
  },
  {
   "cell_type": "code",
   "execution_count": null,
   "id": "6a1dbdce",
   "metadata": {},
   "outputs": [],
   "source": []
  },
  {
   "cell_type": "markdown",
   "id": "ba384b06",
   "metadata": {},
   "source": [
    "## 4. Model Building"
   ]
  },
  {
   "cell_type": "code",
   "execution_count": 27,
   "id": "969ec5f3",
   "metadata": {},
   "outputs": [],
   "source": [
    "## Splitting label data into test and train\n",
    "\n",
    "X_train, X_test, y_train, y_test = train_test_split(X, y, test_size=0.20, random_state = 42)"
   ]
  },
  {
   "cell_type": "code",
   "execution_count": 28,
   "id": "92a264fb",
   "metadata": {},
   "outputs": [
    {
     "data": {
      "text/html": [
       "<style>#sk-container-id-1 {color: black;}#sk-container-id-1 pre{padding: 0;}#sk-container-id-1 div.sk-toggleable {background-color: white;}#sk-container-id-1 label.sk-toggleable__label {cursor: pointer;display: block;width: 100%;margin-bottom: 0;padding: 0.3em;box-sizing: border-box;text-align: center;}#sk-container-id-1 label.sk-toggleable__label-arrow:before {content: \"▸\";float: left;margin-right: 0.25em;color: #696969;}#sk-container-id-1 label.sk-toggleable__label-arrow:hover:before {color: black;}#sk-container-id-1 div.sk-estimator:hover label.sk-toggleable__label-arrow:before {color: black;}#sk-container-id-1 div.sk-toggleable__content {max-height: 0;max-width: 0;overflow: hidden;text-align: left;background-color: #f0f8ff;}#sk-container-id-1 div.sk-toggleable__content pre {margin: 0.2em;color: black;border-radius: 0.25em;background-color: #f0f8ff;}#sk-container-id-1 input.sk-toggleable__control:checked~div.sk-toggleable__content {max-height: 200px;max-width: 100%;overflow: auto;}#sk-container-id-1 input.sk-toggleable__control:checked~label.sk-toggleable__label-arrow:before {content: \"▾\";}#sk-container-id-1 div.sk-estimator input.sk-toggleable__control:checked~label.sk-toggleable__label {background-color: #d4ebff;}#sk-container-id-1 div.sk-label input.sk-toggleable__control:checked~label.sk-toggleable__label {background-color: #d4ebff;}#sk-container-id-1 input.sk-hidden--visually {border: 0;clip: rect(1px 1px 1px 1px);clip: rect(1px, 1px, 1px, 1px);height: 1px;margin: -1px;overflow: hidden;padding: 0;position: absolute;width: 1px;}#sk-container-id-1 div.sk-estimator {font-family: monospace;background-color: #f0f8ff;border: 1px dotted black;border-radius: 0.25em;box-sizing: border-box;margin-bottom: 0.5em;}#sk-container-id-1 div.sk-estimator:hover {background-color: #d4ebff;}#sk-container-id-1 div.sk-parallel-item::after {content: \"\";width: 100%;border-bottom: 1px solid gray;flex-grow: 1;}#sk-container-id-1 div.sk-label:hover label.sk-toggleable__label {background-color: #d4ebff;}#sk-container-id-1 div.sk-serial::before {content: \"\";position: absolute;border-left: 1px solid gray;box-sizing: border-box;top: 0;bottom: 0;left: 50%;z-index: 0;}#sk-container-id-1 div.sk-serial {display: flex;flex-direction: column;align-items: center;background-color: white;padding-right: 0.2em;padding-left: 0.2em;position: relative;}#sk-container-id-1 div.sk-item {position: relative;z-index: 1;}#sk-container-id-1 div.sk-parallel {display: flex;align-items: stretch;justify-content: center;background-color: white;position: relative;}#sk-container-id-1 div.sk-item::before, #sk-container-id-1 div.sk-parallel-item::before {content: \"\";position: absolute;border-left: 1px solid gray;box-sizing: border-box;top: 0;bottom: 0;left: 50%;z-index: -1;}#sk-container-id-1 div.sk-parallel-item {display: flex;flex-direction: column;z-index: 1;position: relative;background-color: white;}#sk-container-id-1 div.sk-parallel-item:first-child::after {align-self: flex-end;width: 50%;}#sk-container-id-1 div.sk-parallel-item:last-child::after {align-self: flex-start;width: 50%;}#sk-container-id-1 div.sk-parallel-item:only-child::after {width: 0;}#sk-container-id-1 div.sk-dashed-wrapped {border: 1px dashed gray;margin: 0 0.4em 0.5em 0.4em;box-sizing: border-box;padding-bottom: 0.4em;background-color: white;}#sk-container-id-1 div.sk-label label {font-family: monospace;font-weight: bold;display: inline-block;line-height: 1.2em;}#sk-container-id-1 div.sk-label-container {text-align: center;}#sk-container-id-1 div.sk-container {/* jupyter's `normalize.less` sets `[hidden] { display: none; }` but bootstrap.min.css set `[hidden] { display: none !important; }` so we also need the `!important` here to be able to override the default hidden behavior on the sphinx rendered scikit-learn.org. See: https://github.com/scikit-learn/scikit-learn/issues/21755 */display: inline-block !important;position: relative;}#sk-container-id-1 div.sk-text-repr-fallback {display: none;}</style><div id=\"sk-container-id-1\" class=\"sk-top-container\"><div class=\"sk-text-repr-fallback\"><pre>MultinomialNB(alpha=0.5)</pre><b>In a Jupyter environment, please rerun this cell to show the HTML representation or trust the notebook. <br />On GitHub, the HTML representation is unable to render, please try loading this page with nbviewer.org.</b></div><div class=\"sk-container\" hidden><div class=\"sk-item\"><div class=\"sk-estimator sk-toggleable\"><input class=\"sk-toggleable__control sk-hidden--visually\" id=\"sk-estimator-id-1\" type=\"checkbox\" checked><label for=\"sk-estimator-id-1\" class=\"sk-toggleable__label sk-toggleable__label-arrow\">MultinomialNB</label><div class=\"sk-toggleable__content\"><pre>MultinomialNB(alpha=0.5)</pre></div></div></div></div></div>"
      ],
      "text/plain": [
       "MultinomialNB(alpha=0.5)"
      ]
     },
     "execution_count": 28,
     "metadata": {},
     "output_type": "execute_result"
    }
   ],
   "source": [
    "# train naive bayes classifier which is very fast and not affected by sparse observaion\n",
    "\n",
    "clf = naive_bayes.MultinomialNB(alpha=0.5)\n",
    "\n",
    "clf.fit(X_train, y_train)"
   ]
  },
  {
   "cell_type": "code",
   "execution_count": null,
   "id": "72fdcb58",
   "metadata": {},
   "outputs": [],
   "source": []
  },
  {
   "cell_type": "markdown",
   "id": "e3e63560",
   "metadata": {},
   "source": [
    "## 5. Model Evaluation"
   ]
  },
  {
   "cell_type": "code",
   "execution_count": 29,
   "id": "17a90a28",
   "metadata": {},
   "outputs": [
    {
     "data": {
      "text/plain": [
       "0.7519607843137255"
      ]
     },
     "execution_count": 29,
     "metadata": {},
     "output_type": "execute_result"
    }
   ],
   "source": [
    "## compute roc_auc_score\n",
    "\n",
    "roc_auc_score(y_test, clf.predict(X_test))"
   ]
  },
  {
   "cell_type": "code",
   "execution_count": 30,
   "id": "966b6067",
   "metadata": {},
   "outputs": [
    {
     "name": "stdout",
     "output_type": "stream",
     "text": [
      "0.8918918918918919\n"
     ]
    }
   ],
   "source": [
    "# compute F1-score\n",
    "f1_score = f1_score(y_test, clf.predict(X_test))\n",
    "\n",
    "# print F1-score\n",
    "print(f1_score)"
   ]
  },
  {
   "cell_type": "code",
   "execution_count": 31,
   "id": "f02e59b8",
   "metadata": {},
   "outputs": [
    {
     "name": "stdout",
     "output_type": "stream",
     "text": [
      "0.8367346938775511\n"
     ]
    }
   ],
   "source": [
    "\n",
    "# compute accuracy\n",
    "accuracy = accuracy_score(y_test, clf.predict(X_test))\n",
    "\n",
    "# print accuracy\n",
    "print(accuracy)\n"
   ]
  },
  {
   "cell_type": "markdown",
   "id": "8aabab64",
   "metadata": {},
   "source": [
    "## 6. Testing model performance on a few reviews "
   ]
  },
  {
   "cell_type": "code",
   "execution_count": 32,
   "id": "430d576d",
   "metadata": {},
   "outputs": [
    {
     "name": "stdout",
     "output_type": "stream",
     "text": [
      "[1]\n"
     ]
    }
   ],
   "source": [
    "# pass through the transform (not fit_transform)\n",
    "\n",
    "test1 = np.array([\"It's best place to get Ethiopian spices and food staffs\"])\n",
    "\n",
    "test1 = vectorizer.transform(test1)\n",
    "\n",
    "print(clf.predict(test1))"
   ]
  },
  {
   "cell_type": "code",
   "execution_count": 34,
   "id": "21268d2d",
   "metadata": {},
   "outputs": [
    {
     "name": "stdout",
     "output_type": "stream",
     "text": [
      "[0]\n"
     ]
    }
   ],
   "source": [
    "test2 = np.array([\"The garri there sell is full of sand my advised to everyone is to avoid that garri please this garri can give you appendicitis be careful\"])\n",
    "\n",
    "test2 = vectorizer.transform(test2)\n",
    "\n",
    "print(clf.predict(test2))"
   ]
  },
  {
   "cell_type": "code",
   "execution_count": 36,
   "id": "8e2cf25e",
   "metadata": {},
   "outputs": [
    {
     "name": "stdout",
     "output_type": "stream",
     "text": [
      "[0]\n"
     ]
    }
   ],
   "source": [
    "test3 = np.array([\"I purchased a 2kg custard powder four days ago July 27, 2022 and discovered it was expiring August 2022. I called store August 1,2022 to make the complaint and was told there's nothing that can be done since it was bought in July. Worst customer service ever!\"])\n",
    "\n",
    "test3 = vectorizer.transform(test3)\n",
    "\n",
    "print(clf.predict(test3))"
   ]
  },
  {
   "cell_type": "markdown",
   "id": "05d4397d",
   "metadata": {},
   "source": [
    "## 7. Applying model to make sentiment prediction to all text reviews "
   ]
  },
  {
   "cell_type": "code",
   "execution_count": 37,
   "id": "6d634f0e",
   "metadata": {},
   "outputs": [
    {
     "name": "stdout",
     "output_type": "stream",
     "text": [
      "[1 1 1 ... 1 1 1]\n"
     ]
    }
   ],
   "source": [
    "# pass through the transform (not fit_transform)\n",
    "\n",
    "df_to_label['labels'] = np.array(df_to_label['review_text'])\n",
    "\n",
    "sentiment  = vectorizer.transform(df_to_label['labels'])\n",
    "\n",
    "print(clf.predict(sentiment))"
   ]
  },
  {
   "cell_type": "code",
   "execution_count": 40,
   "id": "49c015aa",
   "metadata": {},
   "outputs": [],
   "source": [
    "df_to_label['sentiment_manual'] = clf.predict(sentiment)"
   ]
  },
  {
   "cell_type": "code",
   "execution_count": 41,
   "id": "8d345f1d",
   "metadata": {},
   "outputs": [
    {
     "data": {
      "text/html": [
       "<div>\n",
       "<style scoped>\n",
       "    .dataframe tbody tr th:only-of-type {\n",
       "        vertical-align: middle;\n",
       "    }\n",
       "\n",
       "    .dataframe tbody tr th {\n",
       "        vertical-align: top;\n",
       "    }\n",
       "\n",
       "    .dataframe thead th {\n",
       "        text-align: right;\n",
       "    }\n",
       "</style>\n",
       "<table border=\"1\" class=\"dataframe\">\n",
       "  <thead>\n",
       "    <tr style=\"text-align: right;\">\n",
       "      <th></th>\n",
       "      <th>city</th>\n",
       "      <th>name</th>\n",
       "      <th>reviews</th>\n",
       "      <th>rating</th>\n",
       "      <th>review_id</th>\n",
       "      <th>review_text</th>\n",
       "      <th>review_rating</th>\n",
       "      <th>review_datetime_utc</th>\n",
       "      <th>review_text_clean</th>\n",
       "      <th>text_tokenized</th>\n",
       "      <th>tokenized_nostop</th>\n",
       "      <th>string_nostop</th>\n",
       "      <th>Labels</th>\n",
       "      <th>labels</th>\n",
       "      <th>sentiment_manual</th>\n",
       "    </tr>\n",
       "  </thead>\n",
       "  <tbody>\n",
       "    <tr>\n",
       "      <th>0</th>\n",
       "      <td>Calgary</td>\n",
       "      <td>African Variety Store</td>\n",
       "      <td>21.0</td>\n",
       "      <td>4.0</td>\n",
       "      <td>ChZDSUhNMG9nS0VJQ0FnSUNhOWN6TlJ3EAE</td>\n",
       "      <td>Very friendly people from my home country ethiopian.  Always good service and friendly community.</td>\n",
       "      <td>5</td>\n",
       "      <td>8/6/2021 1:33</td>\n",
       "      <td>Very friendly people from my home country ethiopian  Always good service and friendly community</td>\n",
       "      <td>[very, friendly, people, from, my, home, country, ethiopian, always, good, service, and, friendly, community]</td>\n",
       "      <td>[friendly, people, home, country, ethiopian, always, good, service, friendly, community]</td>\n",
       "      <td>friendly people home country ethiopian always good service friendly community</td>\n",
       "      <td></td>\n",
       "      <td>Very friendly people from my home country ethiopian.  Always good service and friendly community.</td>\n",
       "      <td>1</td>\n",
       "    </tr>\n",
       "    <tr>\n",
       "      <th>1</th>\n",
       "      <td>Calgary</td>\n",
       "      <td>African Variety Store</td>\n",
       "      <td>21.0</td>\n",
       "      <td>4.0</td>\n",
       "      <td>ChdDSUhNMG9nS0VJQ0FnSURZbmZ6d2tBRRAB</td>\n",
       "      <td>It's best place to get Ethiopian spices and food staffs</td>\n",
       "      <td>5</td>\n",
       "      <td>5/18/2019 20:55</td>\n",
       "      <td>Its best place to get Ethiopian spices and food staffs</td>\n",
       "      <td>[its, best, place, to, get, ethiopian, spices, and, food, staffs]</td>\n",
       "      <td>[best, place, get, ethiopian, spices, food, staffs]</td>\n",
       "      <td>best place get ethiopian spices food staffs</td>\n",
       "      <td></td>\n",
       "      <td>It's best place to get Ethiopian spices and food staffs</td>\n",
       "      <td>1</td>\n",
       "    </tr>\n",
       "    <tr>\n",
       "      <th>2</th>\n",
       "      <td>Calgary</td>\n",
       "      <td>African Variety Store</td>\n",
       "      <td>21.0</td>\n",
       "      <td>4.0</td>\n",
       "      <td>ChZDSUhNMG9nS0VJQ0FnSUNpbnU3LVl3EAE</td>\n",
       "      <td>It was a great fresh whole lamb</td>\n",
       "      <td>5</td>\n",
       "      <td>11/3/2020 16:23</td>\n",
       "      <td>It was a great fresh whole lamb</td>\n",
       "      <td>[it, was, a, great, fresh, whole, lamb]</td>\n",
       "      <td>[great, fresh, whole, lamb]</td>\n",
       "      <td>great fresh whole lamb</td>\n",
       "      <td></td>\n",
       "      <td>It was a great fresh whole lamb</td>\n",
       "      <td>1</td>\n",
       "    </tr>\n",
       "    <tr>\n",
       "      <th>3</th>\n",
       "      <td>Calgary</td>\n",
       "      <td>African Variety Store</td>\n",
       "      <td>21.0</td>\n",
       "      <td>4.0</td>\n",
       "      <td>ChZDSUhNMG9nS0VJQ0FnSUNCLWRXNllREAE</td>\n",
       "      <td>Their berbere is not the right one,,,,</td>\n",
       "      <td>1</td>\n",
       "      <td>12/30/2022 9:03</td>\n",
       "      <td>Their berbere is not the right one</td>\n",
       "      <td>[their, berbere, is, not, the, right, one]</td>\n",
       "      <td>[berbere, right, one]</td>\n",
       "      <td>berbere right one</td>\n",
       "      <td></td>\n",
       "      <td>Their berbere is not the right one,,,,</td>\n",
       "      <td>1</td>\n",
       "    </tr>\n",
       "    <tr>\n",
       "      <th>4</th>\n",
       "      <td>Calgary</td>\n",
       "      <td>African Choice Market</td>\n",
       "      <td>93.0</td>\n",
       "      <td>4.2</td>\n",
       "      <td>ChZDSUhNMG9nS0VJQ0FnSURjOEthWFlBEAE</td>\n",
       "      <td>I have been a long time customer of this store and have always had great experience. However, recently, with the change in staffing my experiences has been less than pleasant. Today, I attended to do my regular shopping as usual and noticed that their prices has increase drastically. I was buying this items for my mom, who is not in Calgary. I bought a pepper, even though there was no price anywhere the item was located. It occurred to me after leaving the store to check with my mom whether or not she would be fine with the 10 dollar price on such a small amount of pepper. She said not to buy it and to return it. I returned to the store less than 5 minutes later only for them to be telling me that they are not doing returns due to covid 19. Which is understandable. However, this needs to be made aware to all customers when arriving at the door not behind your counter where no one ever thought to look. further, there is nothing preventing your store associates  mention that to every customers to further reinforce that information. After the store associate realized that I was going to stay there as long as it takes for her to refund my money, she did. This experience left a bad taste in my mouth and would like to see improvement.</td>\n",
       "      <td>1</td>\n",
       "      <td>5/17/2020 0:19</td>\n",
       "      <td>I have been a long time customer of this store and have always had great experience However recently with the change in staffing my experiences has been less than pleasant Today I attended to do my regular shopping as usual and noticed that their prices has increase drastically I was buying this items for my mom who is not in Calgary I bought a pepper even though there was no price anywhere the item was located It occurred to me after leaving the store to check with my mom whether or not she would be fine with the 10 dollar price on such a small amount of pepper She said not to buy it and to return it I returned to the store less than 5 minutes later only for them to be telling me that they are not doing returns due to covid 19 Which is understandable However this needs to be made aware to all customers when arriving at the door not behind your counter where no one ever thought to look further there is nothing preventing your store associates  mention that to every customers to further reinforce that information After the store associate realized that I was going to stay there as long as it takes for her to refund my money she did This experience left a bad taste in my mouth and would like to see improvement</td>\n",
       "      <td>[i, have, been, a, long, time, customer, of, this, store, and, have, always, had, great, experience, however, recently, with, the, change, in, staffing, my, experiences, has, been, less, than, pleasant, today, i, attended, to, do, my, regular, shopping, as, usual, and, noticed, that, their, prices, has, increase, drastically, i, was, buying, this, items, for, my, mom, who, is, not, in, calgary, i, bought, a, pepper, even, though, there, was, no, price, anywhere, the, item, was, located, it, occurred, to, me, after, leaving, the, store, to, check, with, my, mom, whether, or, not, she, would, be, fine, with, the, 10, dollar, ...]</td>\n",
       "      <td>[long, time, customer, store, always, great, experience, however, recently, change, staffing, experiences, less, pleasant, today, attended, regular, shopping, usual, noticed, prices, increase, drastically, buying, items, mom, calgary, bought, pepper, even, though, price, anywhere, item, located, occurred, leaving, store, check, mom, whether, would, fine, 10, dollar, price, small, amount, pepper, said, buy, return, returned, store, less, 5, minutes, later, telling, returns, due, covid, 19, understandable, however, needs, made, aware, customers, arriving, door, behind, counter, one, ever, thought, look, nothing, preventing, store, associates, mention, every, customers, reinforce, information, store, associate, realized, going, stay, long, takes, refund, money, experience, left, bad, taste, mouth, ...]</td>\n",
       "      <td>long time customer store always great experience however recently change staffing experiences less pleasant today attended regular shopping usual noticed prices increase drastically buying items mom calgary bought pepper even though price anywhere item located occurred leaving store check mom whether would fine 10 dollar price small amount pepper said buy return returned store less 5 minutes later telling returns due covid 19 understandable however needs made aware customers arriving door behind counter one ever thought look nothing preventing store associates mention every customers reinforce information store associate realized going stay long takes refund money experience left bad taste mouth would like see improvement</td>\n",
       "      <td></td>\n",
       "      <td>I have been a long time customer of this store and have always had great experience. However, recently, with the change in staffing my experiences has been less than pleasant. Today, I attended to do my regular shopping as usual and noticed that their prices has increase drastically. I was buying this items for my mom, who is not in Calgary. I bought a pepper, even though there was no price anywhere the item was located. It occurred to me after leaving the store to check with my mom whether or not she would be fine with the 10 dollar price on such a small amount of pepper. She said not to buy it and to return it. I returned to the store less than 5 minutes later only for them to be telling me that they are not doing returns due to covid 19. Which is understandable. However, this needs to be made aware to all customers when arriving at the door not behind your counter where no one ever thought to look. further, there is nothing preventing your store associates  mention that to every customers to further reinforce that information. After the store associate realized that I was going to stay there as long as it takes for her to refund my money, she did. This experience left a bad taste in my mouth and would like to see improvement.</td>\n",
       "      <td>0</td>\n",
       "    </tr>\n",
       "  </tbody>\n",
       "</table>\n",
       "</div>"
      ],
      "text/plain": [
       "      city                   name  reviews  rating  \\\n",
       "0  Calgary  African Variety Store     21.0     4.0   \n",
       "1  Calgary  African Variety Store     21.0     4.0   \n",
       "2  Calgary  African Variety Store     21.0     4.0   \n",
       "3  Calgary  African Variety Store     21.0     4.0   \n",
       "4  Calgary  African Choice Market     93.0     4.2   \n",
       "\n",
       "                              review_id  \\\n",
       "0   ChZDSUhNMG9nS0VJQ0FnSUNhOWN6TlJ3EAE   \n",
       "1  ChdDSUhNMG9nS0VJQ0FnSURZbmZ6d2tBRRAB   \n",
       "2   ChZDSUhNMG9nS0VJQ0FnSUNpbnU3LVl3EAE   \n",
       "3   ChZDSUhNMG9nS0VJQ0FnSUNCLWRXNllREAE   \n",
       "4   ChZDSUhNMG9nS0VJQ0FnSURjOEthWFlBEAE   \n",
       "\n",
       "                                                                                                                                                                                                                                                                                                                                                                                                                                                                                                                                                                                                                                                                                                                                                                                                                                                                                                                                                                                                                                                                                                                                                                                                                                                                                        review_text  \\\n",
       "0                                                                                                                                                                                                                                                                                                                                                                                                                                                                                                                                                                                                                                                                                                                                                                                                                                                                                                                                                                                                                                                                                                                                                                                                 Very friendly people from my home country ethiopian.  Always good service and friendly community.   \n",
       "1                                                                                                                                                                                                                                                                                                                                                                                                                                                                                                                                                                                                                                                                                                                                                                                                                                                                                                                                                                                                                                                                                                                                                                                                                                           It's best place to get Ethiopian spices and food staffs   \n",
       "2                                                                                                                                                                                                                                                                                                                                                                                                                                                                                                                                                                                                                                                                                                                                                                                                                                                                                                                                                                                                                                                                                                                                                                                                                                                                   It was a great fresh whole lamb   \n",
       "3                                                                                                                                                                                                                                                                                                                                                                                                                                                                                                                                                                                                                                                                                                                                                                                                                                                                                                                                                                                                                                                                                                                                                                                                                                                            Their berbere is not the right one,,,,   \n",
       "4  I have been a long time customer of this store and have always had great experience. However, recently, with the change in staffing my experiences has been less than pleasant. Today, I attended to do my regular shopping as usual and noticed that their prices has increase drastically. I was buying this items for my mom, who is not in Calgary. I bought a pepper, even though there was no price anywhere the item was located. It occurred to me after leaving the store to check with my mom whether or not she would be fine with the 10 dollar price on such a small amount of pepper. She said not to buy it and to return it. I returned to the store less than 5 minutes later only for them to be telling me that they are not doing returns due to covid 19. Which is understandable. However, this needs to be made aware to all customers when arriving at the door not behind your counter where no one ever thought to look. further, there is nothing preventing your store associates  mention that to every customers to further reinforce that information. After the store associate realized that I was going to stay there as long as it takes for her to refund my money, she did. This experience left a bad taste in my mouth and would like to see improvement.   \n",
       "\n",
       "   review_rating review_datetime_utc  \\\n",
       "0              5       8/6/2021 1:33   \n",
       "1              5     5/18/2019 20:55   \n",
       "2              5     11/3/2020 16:23   \n",
       "3              1     12/30/2022 9:03   \n",
       "4              1      5/17/2020 0:19   \n",
       "\n",
       "                                                                                                                                                                                                                                                                                                                                                                                                                                                                                                                                                                                                                                                                                                                                                                                                                                                                                                                                                                                                                                                                                                                                                                                                                                                             review_text_clean  \\\n",
       "0                                                                                                                                                                                                                                                                                                                                                                                                                                                                                                                                                                                                                                                                                                                                                                                                                                                                                                                                                                                                                                                                                                                                                                              Very friendly people from my home country ethiopian  Always good service and friendly community   \n",
       "1                                                                                                                                                                                                                                                                                                                                                                                                                                                                                                                                                                                                                                                                                                                                                                                                                                                                                                                                                                                                                                                                                                                                                                                                                       Its best place to get Ethiopian spices and food staffs   \n",
       "2                                                                                                                                                                                                                                                                                                                                                                                                                                                                                                                                                                                                                                                                                                                                                                                                                                                                                                                                                                                                                                                                                                                                                                                                                                              It was a great fresh whole lamb   \n",
       "3                                                                                                                                                                                                                                                                                                                                                                                                                                                                                                                                                                                                                                                                                                                                                                                                                                                                                                                                                                                                                                                                                                                                                                                                                                           Their berbere is not the right one   \n",
       "4  I have been a long time customer of this store and have always had great experience However recently with the change in staffing my experiences has been less than pleasant Today I attended to do my regular shopping as usual and noticed that their prices has increase drastically I was buying this items for my mom who is not in Calgary I bought a pepper even though there was no price anywhere the item was located It occurred to me after leaving the store to check with my mom whether or not she would be fine with the 10 dollar price on such a small amount of pepper She said not to buy it and to return it I returned to the store less than 5 minutes later only for them to be telling me that they are not doing returns due to covid 19 Which is understandable However this needs to be made aware to all customers when arriving at the door not behind your counter where no one ever thought to look further there is nothing preventing your store associates  mention that to every customers to further reinforce that information After the store associate realized that I was going to stay there as long as it takes for her to refund my money she did This experience left a bad taste in my mouth and would like to see improvement   \n",
       "\n",
       "                                                                                                                                                                                                                                                                                                                                                                                                                                                                                                                                                                                                                                                text_tokenized  \\\n",
       "0                                                                                                                                                                                                                                                                                                                                                                                                                                                                                                                                                [very, friendly, people, from, my, home, country, ethiopian, always, good, service, and, friendly, community]   \n",
       "1                                                                                                                                                                                                                                                                                                                                                                                                                                                                                                                                                                                            [its, best, place, to, get, ethiopian, spices, and, food, staffs]   \n",
       "2                                                                                                                                                                                                                                                                                                                                                                                                                                                                                                                                                                                                                      [it, was, a, great, fresh, whole, lamb]   \n",
       "3                                                                                                                                                                                                                                                                                                                                                                                                                                                                                                                                                                                                                   [their, berbere, is, not, the, right, one]   \n",
       "4  [i, have, been, a, long, time, customer, of, this, store, and, have, always, had, great, experience, however, recently, with, the, change, in, staffing, my, experiences, has, been, less, than, pleasant, today, i, attended, to, do, my, regular, shopping, as, usual, and, noticed, that, their, prices, has, increase, drastically, i, was, buying, this, items, for, my, mom, who, is, not, in, calgary, i, bought, a, pepper, even, though, there, was, no, price, anywhere, the, item, was, located, it, occurred, to, me, after, leaving, the, store, to, check, with, my, mom, whether, or, not, she, would, be, fine, with, the, 10, dollar, ...]   \n",
       "\n",
       "                                                                                                                                                                                                                                                                                                                                                                                                                                                                                                                                                                                                                                                                                                                                                                                                                             tokenized_nostop  \\\n",
       "0                                                                                                                                                                                                                                                                                                                                                                                                                                                                                                                                                                                                                                                                                                                                                    [friendly, people, home, country, ethiopian, always, good, service, friendly, community]   \n",
       "1                                                                                                                                                                                                                                                                                                                                                                                                                                                                                                                                                                                                                                                                                                                                                                                         [best, place, get, ethiopian, spices, food, staffs]   \n",
       "2                                                                                                                                                                                                                                                                                                                                                                                                                                                                                                                                                                                                                                                                                                                                                                                                                 [great, fresh, whole, lamb]   \n",
       "3                                                                                                                                                                                                                                                                                                                                                                                                                                                                                                                                                                                                                                                                                                                                                                                                                       [berbere, right, one]   \n",
       "4  [long, time, customer, store, always, great, experience, however, recently, change, staffing, experiences, less, pleasant, today, attended, regular, shopping, usual, noticed, prices, increase, drastically, buying, items, mom, calgary, bought, pepper, even, though, price, anywhere, item, located, occurred, leaving, store, check, mom, whether, would, fine, 10, dollar, price, small, amount, pepper, said, buy, return, returned, store, less, 5, minutes, later, telling, returns, due, covid, 19, understandable, however, needs, made, aware, customers, arriving, door, behind, counter, one, ever, thought, look, nothing, preventing, store, associates, mention, every, customers, reinforce, information, store, associate, realized, going, stay, long, takes, refund, money, experience, left, bad, taste, mouth, ...]   \n",
       "\n",
       "                                                                                                                                                                                                                                                                                                                                                                                                                                                                                                                                                                                                                                                                                                                                                 string_nostop  \\\n",
       "0                                                                                                                                                                                                                                                                                                                                                                                                                                                                                                                                                                                                                                                                                friendly people home country ethiopian always good service friendly community   \n",
       "1                                                                                                                                                                                                                                                                                                                                                                                                                                                                                                                                                                                                                                                                                                                  best place get ethiopian spices food staffs   \n",
       "2                                                                                                                                                                                                                                                                                                                                                                                                                                                                                                                                                                                                                                                                                                                                       great fresh whole lamb   \n",
       "3                                                                                                                                                                                                                                                                                                                                                                                                                                                                                                                                                                                                                                                                                                                                            berbere right one   \n",
       "4  long time customer store always great experience however recently change staffing experiences less pleasant today attended regular shopping usual noticed prices increase drastically buying items mom calgary bought pepper even though price anywhere item located occurred leaving store check mom whether would fine 10 dollar price small amount pepper said buy return returned store less 5 minutes later telling returns due covid 19 understandable however needs made aware customers arriving door behind counter one ever thought look nothing preventing store associates mention every customers reinforce information store associate realized going stay long takes refund money experience left bad taste mouth would like see improvement   \n",
       "\n",
       "  Labels  \\\n",
       "0          \n",
       "1          \n",
       "2          \n",
       "3          \n",
       "4          \n",
       "\n",
       "                                                                                                                                                                                                                                                                                                                                                                                                                                                                                                                                                                                                                                                                                                                                                                                                                                                                                                                                                                                                                                                                                                                                                                                                                                                                                             labels  \\\n",
       "0                                                                                                                                                                                                                                                                                                                                                                                                                                                                                                                                                                                                                                                                                                                                                                                                                                                                                                                                                                                                                                                                                                                                                                                                 Very friendly people from my home country ethiopian.  Always good service and friendly community.   \n",
       "1                                                                                                                                                                                                                                                                                                                                                                                                                                                                                                                                                                                                                                                                                                                                                                                                                                                                                                                                                                                                                                                                                                                                                                                                                                           It's best place to get Ethiopian spices and food staffs   \n",
       "2                                                                                                                                                                                                                                                                                                                                                                                                                                                                                                                                                                                                                                                                                                                                                                                                                                                                                                                                                                                                                                                                                                                                                                                                                                                                   It was a great fresh whole lamb   \n",
       "3                                                                                                                                                                                                                                                                                                                                                                                                                                                                                                                                                                                                                                                                                                                                                                                                                                                                                                                                                                                                                                                                                                                                                                                                                                                            Their berbere is not the right one,,,,   \n",
       "4  I have been a long time customer of this store and have always had great experience. However, recently, with the change in staffing my experiences has been less than pleasant. Today, I attended to do my regular shopping as usual and noticed that their prices has increase drastically. I was buying this items for my mom, who is not in Calgary. I bought a pepper, even though there was no price anywhere the item was located. It occurred to me after leaving the store to check with my mom whether or not she would be fine with the 10 dollar price on such a small amount of pepper. She said not to buy it and to return it. I returned to the store less than 5 minutes later only for them to be telling me that they are not doing returns due to covid 19. Which is understandable. However, this needs to be made aware to all customers when arriving at the door not behind your counter where no one ever thought to look. further, there is nothing preventing your store associates  mention that to every customers to further reinforce that information. After the store associate realized that I was going to stay there as long as it takes for her to refund my money, she did. This experience left a bad taste in my mouth and would like to see improvement.   \n",
       "\n",
       "   sentiment_manual  \n",
       "0                 1  \n",
       "1                 1  \n",
       "2                 1  \n",
       "3                 1  \n",
       "4                 0  "
      ]
     },
     "execution_count": 41,
     "metadata": {},
     "output_type": "execute_result"
    }
   ],
   "source": [
    "df_to_label.head(5)"
   ]
  },
  {
   "cell_type": "code",
   "execution_count": null,
   "id": "c986100e",
   "metadata": {},
   "outputs": [],
   "source": []
  },
  {
   "cell_type": "code",
   "execution_count": null,
   "id": "b61d4d9e",
   "metadata": {},
   "outputs": [],
   "source": [
    "loo = LeaveOneOut()"
   ]
  },
  {
   "cell_type": "code",
   "execution_count": null,
   "id": "6dccbda9",
   "metadata": {},
   "outputs": [],
   "source": [
    "for train_index, test_index in loo.split(X):\n",
    "    print(\"Train indices:\", train_index)\n",
    "    print(\"Test indices:\", test_index)\n"
   ]
  }
 ],
 "metadata": {
  "kernelspec": {
   "display_name": "datascience_the_one",
   "language": "python",
   "name": "datascience_the_one"
  },
  "language_info": {
   "codemirror_mode": {
    "name": "ipython",
    "version": 3
   },
   "file_extension": ".py",
   "mimetype": "text/x-python",
   "name": "python",
   "nbconvert_exporter": "python",
   "pygments_lexer": "ipython3",
   "version": "3.9.5"
  }
 },
 "nbformat": 4,
 "nbformat_minor": 5
}
